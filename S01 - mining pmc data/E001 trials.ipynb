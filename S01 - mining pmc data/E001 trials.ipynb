{
 "cells": [
  {
   "cell_type": "code",
   "execution_count": 1,
   "id": "88a9281a",
   "metadata": {},
   "outputs": [],
   "source": [
    "import requests\n",
    "import json\n",
    "from xml.etree import ElementTree"
   ]
  },
  {
   "cell_type": "code",
   "execution_count": 2,
   "id": "7e5faa93",
   "metadata": {},
   "outputs": [],
   "source": [
    "# Define search parameters\n",
    "QUERY = \"\"\"\n",
    "(pdac OR pancreatic cancer OR pancreatic adenocarcinoma OR pancreatic ductal adenocarcinoma) AND (alpha-smooth muscle actin OR alpha smooth muscle actin OR alpha-SMA OR alpha SMA) AND \"neural invasion\" AND \"clinical trial\"\n",
    "\"\"\"\n",
    "DB = \"pmc\"\n",
    "BASE_URL = \"https://eutils.ncbi.nlm.nih.gov/entrez/eutils\"\n",
    "NUM_RESULTS = 10000"
   ]
  },
  {
   "cell_type": "code",
   "execution_count": 5,
   "id": "33ce1ee8",
   "metadata": {},
   "outputs": [
    {
     "name": "stdout",
     "output_type": "stream",
     "text": [
      "Results saved to pubmed_articles.jsonl\n"
     ]
    }
   ],
   "source": [
    "# Step 1: Search for articles\n",
    "search_url = f\"{BASE_URL}/esearch.fcgi?db={DB}&term={QUERY}&retmax={NUM_RESULTS}&retmode=xml\"\n",
    "response = requests.get(search_url)\n",
    "root = ElementTree.fromstring(response.content)\n",
    "article_ids = [id_elem.text for id_elem in root.findall(\".//Id\")]\n",
    "\n",
    "# Step 2: Fetch article details\n",
    "if article_ids:\n",
    "    id_str = \",\".join(article_ids)\n",
    "    fetch_url = f\"{BASE_URL}/efetch.fcgi?db={DB}&id={id_str}&retmode=xml\"\n",
    "    fetch_response = requests.get(fetch_url)\n",
    "    fetch_root = ElementTree.fromstring(fetch_response.content)\n",
    "\n",
    "    jsonl_filename = \"pubmed_articles.jsonl\"\n",
    "\n",
    "    with open(jsonl_filename, \"w\", encoding=\"utf-8\") as jsonl_file:\n",
    "        for article in fetch_root.findall(\".//article\"):\n",
    "            # Extract title\n",
    "            title_elem = article.find(\".//article-title\")\n",
    "            title = title_elem.text if title_elem is not None else \"N/A\"\n",
    "\n",
    "            # Extract abstract (handling multiple paragraphs if present)\n",
    "            abstract_text = \"N/A\"\n",
    "            abstract_elem = article.find(\".//abstract\")\n",
    "            if abstract_elem is not None:\n",
    "                abstract_text = \" \".join(p.text for p in abstract_elem.findall(\".//p\") if p.text)\n",
    "\n",
    "            # Extract publication year\n",
    "            pub_year_elem = article.find(\".//pub-date/year\")\n",
    "            pub_year = pub_year_elem.text if pub_year_elem is not None else \"N/A\"\n",
    "\n",
    "            # Extract journal name\n",
    "            journal_elem = article.find(\".//journal-title\")\n",
    "            journal = journal_elem.text if journal_elem is not None else \"N/A\"\n",
    "\n",
    "            # Extract authors (handling missing given-names or surname)\n",
    "            authors = []\n",
    "            for contrib in article.findall(\".//contrib[@contrib-type='author']\"):\n",
    "                surname_elem = contrib.find(\".//surname\")\n",
    "                given_elem = contrib.find(\".//given-names\")\n",
    "                surname = surname_elem.text if surname_elem is not None else \"\"\n",
    "                given_name = given_elem.text if given_elem is not None else \"\"\n",
    "                full_name = f\"{surname}, {given_name}\".strip(\", \")\n",
    "                if full_name:\n",
    "                    authors.append(full_name)\n",
    "\n",
    "            # Store extracted data\n",
    "            article_data = {\n",
    "                \"title\": title,\n",
    "                \"abstract\": abstract_text,\n",
    "                \"publication_year\": pub_year,\n",
    "                \"publication_name\": journal,\n",
    "                \"authors\": authors,\n",
    "                \"database\": \"PMC\"\n",
    "            }\n",
    "\n",
    "            # Write to JSONL file\n",
    "            jsonl_file.write(json.dumps(article_data, ensure_ascii=False) + \"\\n\")\n",
    "            # also write to a text file for human readability\n",
    "            with open(\"pubmed_articles.txt\", \"a\", encoding=\"utf-8\") as text_file:\n",
    "                text_file.write(f\"Title: {title}\\n\")\n",
    "                text_file.write(f\"Abstract: {abstract_text}\\n\")\n",
    "                text_file.write(f\"Publication Year: {pub_year}\\n\")\n",
    "                text_file.write(f\"Publication Name: {journal}\\n\")\n",
    "                text_file.write(f\"Authors: {', '.join(authors)}\\n\")\n",
    "                text_file.write(\"=\" * 80 + \"\\n\")\n",
    "\n",
    "    print(f\"Results saved to {jsonl_filename}\")\n",
    "else:\n",
    "    print(\"No articles found.\")"
   ]
  }
 ],
 "metadata": {
  "kernelspec": {
   "display_name": "myenv",
   "language": "python",
   "name": "python3"
  },
  "language_info": {
   "codemirror_mode": {
    "name": "ipython",
    "version": 3
   },
   "file_extension": ".py",
   "mimetype": "text/x-python",
   "name": "python",
   "nbconvert_exporter": "python",
   "pygments_lexer": "ipython3",
   "version": "3.9.21"
  }
 },
 "nbformat": 4,
 "nbformat_minor": 5
}
